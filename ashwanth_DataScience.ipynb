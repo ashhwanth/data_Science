{
 "cells": [
  {
   "cell_type": "code",
   "execution_count": 1,
   "id": "1688f4e4",
   "metadata": {},
   "outputs": [
    {
     "name": "stdout",
     "output_type": "stream",
     "text": [
      "Original numbers:\n",
      "[3 5]\n",
      "[2 5]\n",
      "Comparison - greater\n",
      "[ True False]\n",
      "Comparison - greater_equal\n",
      "[ True  True]\n",
      "Comparison - less\n",
      "[False False]\n",
      "Comparison - less_equal\n",
      "[False  True]\n"
     ]
    }
   ],
   "source": [
    "import numpy as np\n",
    "x = np.array([3, 5])\n",
    "y = np.array([2, 5])\n",
    "print(\"Original numbers:\")\n",
    "print(x)\n",
    "print(y)\n",
    "print(\"Comparison - greater\")\n",
    "print(np.greater(x, y))\n",
    "print(\"Comparison - greater_equal\")\n",
    "print(np.greater_equal(x, y))\n",
    "print(\"Comparison - less\")\n",
    "print(np.less(x, y))\n",
    "print(\"Comparison - less_equal\")\n",
    "print(np.less_equal(x, y))"
   ]
  },
  {
   "cell_type": "code",
   "execution_count": 6,
   "id": "3827e3dc",
   "metadata": {},
   "outputs": [
    {
     "name": "stdout",
     "output_type": "stream",
     "text": [
      "[ 4  6  8 10 12 14 16 18 20 22 24 26 28 30 32 34 36 38 40 42 44 46 48 50\n",
      " 52 54 56 58 60 62 64 66 68 70 72 74 76 78 80 82 84 86 88 90 92 94 96 98]\n"
     ]
    }
   ],
   "source": [
    "print(np.arange(4, 100, 2))"
   ]
  },
  {
   "cell_type": "code",
   "execution_count": 8,
   "id": "180a23ae",
   "metadata": {},
   "outputs": [
    {
     "name": "stdout",
     "output_type": "stream",
     "text": [
      "array =  [30 32 34 36 38 40 42 44 46 48 50 52 54 56 58 60 62 64 66 68]\n"
     ]
    }
   ],
   "source": [
    "print(\"array = \", np.arange(30, 70, 2))"
   ]
  },
  {
   "cell_type": "code",
   "execution_count": 11,
   "id": "82e0e15b",
   "metadata": {},
   "outputs": [
    {
     "name": "stdout",
     "output_type": "stream",
     "text": [
      "[[1. 0. 0.]\n",
      " [0. 1. 0.]\n",
      " [0. 0. 1.]]\n"
     ]
    }
   ],
   "source": [
    "array1 = np.identity(3)\n",
    "print(array1)"
   ]
  },
  {
   "cell_type": "code",
   "execution_count": 18,
   "id": "bccd8a74",
   "metadata": {},
   "outputs": [
    {
     "name": "stdout",
     "output_type": "stream",
     "text": [
      "Original vectors : \n",
      " [ 0  1  2  3  4  5  6  7  8  9 10 11 12 13 14 15 16 17 18 19 20]\n",
      "after changing signs of 9-15  to negative: \n",
      "[  0   1   2   3   4   5   6   7   8  -9 -10 -11 -12 -13 -14 -15  16  17\n",
      "  18  19  20]\n"
     ]
    }
   ],
   "source": [
    "d=np.arange(21)\n",
    "print(\"Original vectors : \\n\",d)\n",
    "print(\"after changing signs of 9-15  to negative: \")\n",
    "d[(d>=9) & (d<= 15)] *= -1\n",
    "print(d)"
   ]
  },
  {
   "cell_type": "code",
   "execution_count": 2,
   "id": "ae785751",
   "metadata": {},
   "outputs": [
    {
     "name": "stdout",
     "output_type": "stream",
     "text": [
      "[[1 0 0 0 0]\n",
      " [0 2 0 0 0]\n",
      " [0 0 3 0 0]\n",
      " [0 0 0 4 0]\n",
      " [0 0 0 0 5]]\n"
     ]
    }
   ],
   "source": [
    "import numpy as np\n",
    "e = np.diag([1,2,3,4,5])\n",
    "print(e)"
   ]
  },
  {
   "cell_type": "code",
   "execution_count": 3,
   "id": "4a2d78de",
   "metadata": {},
   "outputs": [
    {
     "name": "stdout",
     "output_type": "stream",
     "text": [
      "Original array:\n",
      "[[0 1]\n",
      " [2 3]]\n",
      "Sum of all elements:\n",
      "6\n",
      "Sum of each column:\n",
      "[2 4]\n",
      "Sum of each row:\n",
      "[1 5]\n"
     ]
    }
   ],
   "source": [
    "import numpy as np\n",
    "x = np.array([[0,1],[2,3]])\n",
    "print(\"Original array:\")\n",
    "print(x)\n",
    "print(\"Sum of all elements:\")\n",
    "print(np.sum(x))\n",
    "print(\"Sum of each column:\")\n",
    "print(np.sum(x, axis=0))\n",
    "print(\"Sum of each row:\")\n",
    "print(np.sum(x, axis=1))"
   ]
  },
  {
   "cell_type": "code",
   "execution_count": 10,
   "id": "2ba281fe",
   "metadata": {},
   "outputs": [
    {
     "name": "stdout",
     "output_type": "stream",
     "text": [
      "Original array:\n",
      "[[ 0  1  2]\n",
      " [ 3  4  5]\n",
      " [ 6  7  8]\n",
      " [ 9 10 11]]\n",
      "After loading, content of the text file:\n",
      "[[ 0.  1.  2.]\n",
      " [ 3.  4.  5.]\n",
      " [ 6.  7.  8.]\n",
      " [ 9. 10. 11.]]\n"
     ]
    }
   ],
   "source": [
    "import numpy as np\n",
    "import os\n",
    "x = np.arange(12).reshape(4, 3)\n",
    "print(\"Original array:\")\n",
    "print(x)\n",
    "header = 'col1 col2 col3'\n",
    "np.savetxt('temp.txt', x, fmt=\"%d\", header=header) \n",
    "print(\"After loading, content of the text file:\")\n",
    "result = np.loadtxt('temp.txt')\n",
    "print(result)"
   ]
  },
  {
   "cell_type": "code",
   "execution_count": 5,
   "id": "936ab0b3",
   "metadata": {},
   "outputs": [
    {
     "name": "stdout",
     "output_type": "stream",
     "text": [
      "Original arrays:\n",
      "[0.5 1.5 0.2]\n",
      "[0.4999999999 1.5          0.2         ]\n",
      "\n",
      "Test said two arrays are equal (element wise) or not:?\n",
      "[False  True  True]\n",
      "\n",
      "Original arrays:\n",
      "[0.5  1.5  0.23]\n",
      "[0.4999999999 1.5000000001 0.23        ]\n",
      "\n",
      "Test said two arrays are equal (element wise) or not:?\n",
      "[False False  True]\n"
     ]
    }
   ],
   "source": [
    "import numpy as np\n",
    "nums1 = np.array([0.5, 1.5, 0.2])\n",
    "nums2 = np.array([0.4999999999, 1.500000000, 0.2])\n",
    "np.set_printoptions(precision=15)\n",
    "print(\"Original arrays:\")\n",
    "print(nums1)\n",
    "print(nums2)\n",
    "print(\"\\nTest said two arrays are equal (element wise) or not:?\")\n",
    "print(nums1 == nums2)\n",
    "nums1 = np.array([0.5, 1.5, 0.23])\n",
    "nums2 = np.array([0.4999999999, 1.5000000001, 0.23])\n",
    "print(\"\\nOriginal arrays:\")\n",
    "np.set_printoptions(precision=15)\n",
    "print(nums1)\n",
    "print(nums2)\n",
    "print(\"\\nTest said two arrays are equal (element wise) or not:?\")\n",
    "print(np.equal(nums1, nums2))"
   ]
  },
  {
   "cell_type": "code",
   "execution_count": 6,
   "id": "ceebaa36",
   "metadata": {},
   "outputs": [
    {
     "name": "stdout",
     "output_type": "stream",
     "text": [
      "Original array:\n",
      "[[ 0  1  2  3]\n",
      " [ 4  5  6  7]\n",
      " [ 8  9 10 11]\n",
      " [12 13 14 15]]\n",
      "\n",
      "New array after swapping first and last rows of the said array:\n",
      "[[12 13 14 15]\n",
      " [ 4  5  6  7]\n",
      " [ 8  9 10 11]\n",
      " [ 0  1  2  3]]\n"
     ]
    }
   ],
   "source": [
    "import numpy as np\n",
    "nums = np.arange(16, dtype='int').reshape(-1, 4)\n",
    "print(\"Original array:\")\n",
    "print(nums)\n",
    "print(\"\\nNew array after swapping first and last rows of the said array:\")\n",
    "nums[[0,-1],:]=nums[[-1,0],:]\n",
    "print(nums)"
   ]
  },
  {
   "cell_type": "code",
   "execution_count": 11,
   "id": "38239561",
   "metadata": {},
   "outputs": [
    {
     "name": "stdout",
     "output_type": "stream",
     "text": [
      "Array1:\n",
      "[[2 5 2]\n",
      " [1 5 5]]\n",
      "Array2:\n",
      "[[5 3 4]\n",
      " [3 2 5]]\n",
      "\n",
      "Multiply said arrays of same size element-by-element:\n",
      "[[10 15  8]\n",
      " [ 3 10 25]]\n"
     ]
    }
   ],
   "source": [
    "import numpy as np \n",
    "nums1 = np.array([[2, 5, 2],\n",
    "              [1, 5, 5]])\n",
    "nums2 = np.array([[5, 3, 4],\n",
    "              [3, 2, 5]])\n",
    "print(\"Array1:\") \n",
    "print(nums1)\n",
    "print(\"Array2:\") \n",
    "print(nums2)\n",
    "print(\"\\nMultiply said arrays of same size element-by-element:\")\n",
    "print(np.multiply(nums1, nums2))"
   ]
  },
  {
   "cell_type": "code",
   "execution_count": 2,
   "id": "bd999b5f",
   "metadata": {
    "scrolled": true
   },
   "outputs": [
    {
     "name": "stdout",
     "output_type": "stream",
     "text": [
      "[[4 1]\n",
      " [2 2]]\n"
     ]
    }
   ],
   "source": [
    "# dot product\n",
    "import numpy as np\n",
    "a = [[1, 0], [0, 1]]\n",
    "b = [[4, 1], [2, 2]]\n",
    "print(np.dot(a, b))\n"
   ]
  },
  {
   "cell_type": "code",
   "execution_count": 4,
   "id": "5348d14e",
   "metadata": {},
   "outputs": [
    {
     "name": "stdout",
     "output_type": "stream",
     "text": [
      "[[ 4 12]\n",
      " [ 1  3]]\n"
     ]
    }
   ],
   "source": [
    "#transpose\n",
    "b = np.matrix('[4, 1; 12, 3]')\n",
    "print(b.transpose())\n"
   ]
  },
  {
   "cell_type": "code",
   "execution_count": 5,
   "id": "8849b0d0",
   "metadata": {},
   "outputs": [
    {
     "name": "stdout",
     "output_type": "stream",
     "text": [
      "[[7]]\n"
     ]
    }
   ],
   "source": [
    "#trace\n",
    "b = np.matrix('[4, 1; 12, 3]')\n",
    "print(b.trace())"
   ]
  },
  {
   "cell_type": "code",
   "execution_count": 8,
   "id": "467c2bb8",
   "metadata": {},
   "outputs": [
    {
     "name": "stdout",
     "output_type": "stream",
     "text": [
      "1\n"
     ]
    }
   ],
   "source": [
    "#rank\n",
    "b = np.matrix('[4, 1; 12, 3]')\n",
    "print(np.linalg.matrix_rank(b))"
   ]
  },
  {
   "cell_type": "code",
   "execution_count": 10,
   "id": "22d48e91",
   "metadata": {},
   "outputs": [
    {
     "name": "stdout",
     "output_type": "stream",
     "text": [
      "0.0\n"
     ]
    }
   ],
   "source": [
    "#determinant\n",
    "b = np.matrix('[4, 1; 12, 3]')\n",
    "print(np.linalg.det(b))"
   ]
  },
  {
   "cell_type": "markdown",
   "id": "b1e2c5cc",
   "metadata": {},
   "source": []
  },
  {
   "cell_type": "code",
   "execution_count": 19,
   "id": "e01567a9",
   "metadata": {},
   "outputs": [
    {
     "name": "stdout",
     "output_type": "stream",
     "text": [
      "Matrix A:\n",
      "Enter the number of rows: 3\n",
      "Enter the number of columns: 3\n",
      "Enter the matrix values row-wise:\n",
      "Enter value for element (1,1): 1\n",
      "Enter value for element (1,2): 2\n",
      "Enter value for element (1,3): 3\n",
      "Enter value for element (2,1): 4\n",
      "Enter value for element (2,2): 5\n",
      "Enter value for element (2,3): 6\n",
      "Enter value for element (3,1): 7\n",
      "Enter value for element (3,2): 8\n",
      "Enter value for element (3,3): 9\n",
      "\n",
      "Matrix B:\n",
      "Enter the number of rows: 3\n",
      "Enter the number of columns: 3\n",
      "Enter the matrix values row-wise:\n",
      "Enter value for element (1,1): 1\n",
      "Enter value for element (1,2): 1\n",
      "Enter value for element (1,3): 1\n",
      "Enter value for element (2,1): 1\n",
      "Enter value for element (2,2): 1\n",
      "Enter value for element (2,3): 1\n",
      "Enter value for element (3,1): 1\n",
      "Enter value for element (3,2): 1\n",
      "Enter value for element (3,3): 1\n",
      "\n",
      "1. Dot Product:\n",
      "[[ 6  6  6]\n",
      " [15 15 15]\n",
      " [24 24 24]]\n",
      "\n",
      "2. Transpose of Matrix A:\n",
      "[[1 4 7]\n",
      " [2 5 8]\n",
      " [3 6 9]]\n",
      "\n",
      "Transpose of Matrix B:\n",
      "[[1 1 1]\n",
      " [1 1 1]\n",
      " [1 1 1]]\n",
      "\n",
      "3. Trace of Matrix A: 15\n",
      "Trace of Matrix B: 3\n",
      "\n",
      "4. Rank of Matrix A: 2\n",
      "Rank of Matrix B: 1\n",
      "\n",
      "5. Determinant of Matrix A: 0.0\n",
      "Determinant of Matrix B: 0.0\n",
      "\n",
      "Matrix A is singular, and the inverse does not exist.\n",
      "\n",
      "Matrix B is singular, and the inverse does not exist.\n",
      "\n",
      "7. Eigenvalues and Eigenvectors of Matrix A:\n",
      "Eigenvalues:\n",
      "[ 1.61168440e+01 -1.11684397e+00 -1.30367773e-15]\n",
      "Eigenvectors:\n",
      "[[-0.23197069 -0.78583024  0.40824829]\n",
      " [-0.52532209 -0.08675134 -0.81649658]\n",
      " [-0.8186735   0.61232756  0.40824829]]\n",
      "\n",
      "Eigenvalues and Eigenvectors of Matrix B:\n",
      "Eigenvalues:\n",
      "[-2.22044605e-16  3.00000000e+00  0.00000000e+00]\n",
      "Eigenvectors:\n",
      "[[-0.81649658  0.57735027  0.        ]\n",
      " [ 0.40824829  0.57735027 -0.70710678]\n",
      " [ 0.40824829  0.57735027  0.70710678]]\n"
     ]
    }
   ],
   "source": [
    "import numpy as np\n",
    "\n",
    "# Function to read a matrix from the user\n",
    "def read_matrix():\n",
    "    rows = int(input(\"Enter the number of rows: \"))\n",
    "    cols = int(input(\"Enter the number of columns: \"))\n",
    "    \n",
    "    matrix = []\n",
    "    print(\"Enter the matrix values row-wise:\")\n",
    "    for i in range(rows):\n",
    "        row = []\n",
    "        for j in range(cols):\n",
    "            val = int(input(f\"Enter value for element ({i+1},{j+1}): \"))\n",
    "            row.append(val)\n",
    "        matrix.append(row)\n",
    "    \n",
    "    return np.array(matrix)\n",
    "\n",
    "# Main program\n",
    "print(\"Matrix A:\")\n",
    "matrix_a = read_matrix()\n",
    "\n",
    "print(\"\\nMatrix B:\")\n",
    "matrix_b = read_matrix()\n",
    "\n",
    "# 1. Dot Product\n",
    "dot_product = np.dot(matrix_a, matrix_b)\n",
    "print(\"\\n1. Dot Product:\")\n",
    "print(dot_product)\n",
    "\n",
    "# 2. Transpose\n",
    "transpose_a = np.transpose(matrix_a)\n",
    "transpose_b = np.transpose(matrix_b)\n",
    "print(\"\\n2. Transpose of Matrix A:\")\n",
    "print(transpose_a)\n",
    "print(\"\\nTranspose of Matrix B:\")\n",
    "print(transpose_b)\n",
    "\n",
    "# 3. Trace\n",
    "trace_a = np.trace(matrix_a)\n",
    "trace_b = np.trace(matrix_b)\n",
    "print(\"\\n3. Trace of Matrix A:\", trace_a)\n",
    "print(\"Trace of Matrix B:\", trace_b)\n",
    "\n",
    "# 4. Rank\n",
    "rank_a = np.linalg.matrix_rank(matrix_a)\n",
    "rank_b = np.linalg.matrix_rank(matrix_b)\n",
    "print(\"\\n4. Rank of Matrix A:\", rank_a)\n",
    "print(\"Rank of Matrix B:\", rank_b)\n",
    "\n",
    "# 5. Determinant\n",
    "det_a = np.linalg.det(matrix_a)\n",
    "det_b = np.linalg.det(matrix_b)\n",
    "print(\"\\n5. Determinant of Matrix A:\", det_a)\n",
    "print(\"Determinant of Matrix B:\", det_b)\n",
    "\n",
    "# 6. Inverse\n",
    "if det_a == 0:\n",
    "    print(\"\\nMatrix A is singular, and the inverse does not exist.\")\n",
    "else:\n",
    "    inverse_a = np.linalg.inv(matrix_a)\n",
    "    print(\"\\n6. Inverse of Matrix A:\")\n",
    "    print(inverse_a)\n",
    "\n",
    "if det_b == 0:\n",
    "    print(\"\\nMatrix B is singular, and the inverse does not exist.\")\n",
    "else:\n",
    "    inverse_b = np.linalg.inv(matrix_b)\n",
    "    print(\"\\nInverse of Matrix B:\")\n",
    "    print(inverse_b)\n",
    "    \n",
    "    \n",
    "# 7. Eigenvalues and Eigenvectors\n",
    "eigenvalues_a, eigenvectors_a = np.linalg.eig(matrix_a)\n",
    "eigenvalues_b, eigenvectors_b = np.linalg.eig(matrix_b)\n",
    "print(\"\\n7. Eigenvalues and Eigenvectors of Matrix A:\")\n",
    "print(\"Eigenvalues:\")\n",
    "print(eigenvalues_a)\n",
    "print(\"Eigenvectors:\")\n",
    "print(eigenvectors_a)\n",
    "\n",
    "print(\"\\nEigenvalues and Eigenvectors of Matrix B:\")\n",
    "print(\"Eigenvalues:\")\n",
    "print(eigenvalues_b)\n",
    "print(\"Eigenvectors:\")\n",
    "print(eigenvectors_b)\n"
   ]
  }
 ],
 "metadata": {
  "kernelspec": {
   "display_name": "Python 3 (ipykernel)",
   "language": "python",
   "name": "python3"
  },
  "language_info": {
   "codemirror_mode": {
    "name": "ipython",
    "version": 3
   },
   "file_extension": ".py",
   "mimetype": "text/x-python",
   "name": "python",
   "nbconvert_exporter": "python",
   "pygments_lexer": "ipython3",
   "version": "3.9.12"
  }
 },
 "nbformat": 4,
 "nbformat_minor": 5
}
